{
 "cells": [
  {
   "cell_type": "markdown",
   "id": "43253f18",
   "metadata": {},
   "source": [
    "A. Необходимо вычислить бонус менеджера за каждую заключенную сделку до 01 июля. \n",
    "Бонус рассчитывается следующим образом:\n",
    "1) За новые сделки менеджер получает 7 % от суммы, при условии, что статус\n",
    "оплаты «ОПЛАЧЕНО», а также имеется оригинал подписанного договора с\n",
    "клиентом (в рассматриваемом месяце).\n",
    "2) За текущие сделки менеджер получает 5 % от суммы, если она больше 10 тыс.,\n",
    "и 3 % от суммы, если меньше. При этом статус оплаты может быть любым,\n",
    "кроме «ПРОСРОЧЕНО», а также необходимо наличие оригинала подписанного\n",
    "договора с клиентом (в рассматриваемом месяце).\n",
    "Бонусы по сделкам, оригиналы для которых приходят позже рассматриваемого\n",
    "месяца, считаются остатком на следующий период, который выплачивается по\n",
    "мере прихода оригиналов.\n",
    "\n",
    "Б. Ответить на вопросы:\n",
    "1) Вычислите общую выручку за июль 2021 по тем сделкам, приход денежных\n",
    "средств, которых не просрочен.\n",
    "2) Как изменялась выручка компании за рассматриваемый период?\n",
    "Проиллюстрируйте графиком.\n",
    "3) Кто из менеджеров привлек для компании больше всего денежных средств в\n",
    "сентябре 2021?\n",
    "4) Какой тип сделок (новая/текущая) был преобладающим в октябре 2021?\n",
    "5) Сколько оригиналов договора по майским сделкам было получено в июне 2021?"
   ]
  },
  {
   "cell_type": "code",
   "execution_count": 67,
   "id": "e6c580b7",
   "metadata": {},
   "outputs": [
    {
     "name": "stdout",
     "output_type": "stream",
     "text": [
      "   client_id      sum      status     sale new/current  Unnamed: 5  document  \\\n",
      "0        NaN      NaN    Май 2021      NaN         NaN         NaN       NaN   \n",
      "1        6.0  11693.7  ВНУТРЕННИЙ        -           -         NaN         -   \n",
      "2       14.0   5452.7    ОПЛАЧЕНО  Петрова       новая         NaN  оригинал   \n",
      "3       15.0  13991.7    ОПЛАЧЕНО   Иванов     текущая         NaN  оригинал   \n",
      "4       16.0    719.7    ОПЛАЧЕНО   Иванов     текущая         NaN  оригинал   \n",
      "\n",
      "        receiving_date  \n",
      "0                  NaN  \n",
      "1                    -  \n",
      "2  2021-07-26 00:00:00  \n",
      "3  2021-06-08 00:00:00  \n",
      "4  2021-06-08 00:00:00  \n"
     ]
    }
   ],
   "source": [
    "import pandas as pd\n",
    "import matplotlib.pyplot as plt\n",
    "df = pd.read_excel('data.xlsx')\n",
    "print(df.head(5))"
   ]
  },
  {
   "cell_type": "markdown",
   "id": "5ff868d8",
   "metadata": {},
   "source": [
    "Б. Предварительный анализ + ответы на вопросы"
   ]
  },
  {
   "cell_type": "code",
   "execution_count": 68,
   "id": "ff4a9069",
   "metadata": {},
   "outputs": [],
   "source": [
    "df = df.loc[:, df.notna().any(axis=0)]"
   ]
  },
  {
   "cell_type": "code",
   "execution_count": 69,
   "id": "29f43d16",
   "metadata": {},
   "outputs": [],
   "source": [
    "# Создание нового столбца 'month'\n",
    "df['month'] = df['status'].where(df['client_id'].isna())\n",
    "# Протягивание значений вниз\n",
    "df['month'] = df['month'].fillna(method='ffill')"
   ]
  },
  {
   "cell_type": "code",
   "execution_count": 70,
   "id": "94f71a83",
   "metadata": {},
   "outputs": [],
   "source": [
    "df = df.dropna(subset=['client_id'])"
   ]
  },
  {
   "cell_type": "markdown",
   "id": "4bf4e83d",
   "metadata": {},
   "source": [
    " 1. Вычислите общую выручку за июль 2021 по тем сделкам, приход денежных средств, которых не просрочен."
   ]
  },
  {
   "cell_type": "code",
   "execution_count": 71,
   "id": "895e6f14",
   "metadata": {},
   "outputs": [],
   "source": [
    "# Фильтрация данных\n",
    "revenue_July=df.query('month==\"Июль 2021\" and status!= \"ПРОСРОЧЕНО\"').groupby('month', as_index=False).agg({'sum':'sum'})"
   ]
  },
  {
   "cell_type": "code",
   "execution_count": 72,
   "id": "b6e09af2",
   "metadata": {},
   "outputs": [
    {
     "name": "stdout",
     "output_type": "stream",
     "text": [
      "Общая выручка за июль 2021 (без ПРОСРОЧЕНО):        month        sum\n",
      "0  Июль 2021  859896.47\n"
     ]
    }
   ],
   "source": [
    "# Вывод результата\n",
    "print(f\"Общая выручка за июль 2021 (без ПРОСРОЧЕНО): {revenue_July}\")"
   ]
  },
  {
   "cell_type": "markdown",
   "id": "a87e195b",
   "metadata": {},
   "source": [
    "2. Как изменялась выручка компании за рассматриваемый период?Проиллюстрируйте графиком."
   ]
  },
  {
   "cell_type": "code",
   "execution_count": 73,
   "id": "40186053",
   "metadata": {},
   "outputs": [
    {
     "data": {
      "text/plain": [
       "client_id         float64\n",
       "sum               float64\n",
       "status             object\n",
       "sale               object\n",
       "new/current        object\n",
       "document           object\n",
       "receiving_date     object\n",
       "month              object\n",
       "dtype: object"
      ]
     },
     "execution_count": 73,
     "metadata": {},
     "output_type": "execute_result"
    }
   ],
   "source": [
    "df.dtypes"
   ]
  },
  {
   "cell_type": "code",
   "execution_count": 74,
   "id": "67413717",
   "metadata": {},
   "outputs": [],
   "source": [
    "# Словарь для замены русских названий месяцев на английские\n",
    "months_translation = {\n",
    "    'Январь': 'January',\n",
    "    'Февраль': 'February',\n",
    "    'Март': 'March',\n",
    "    'Апрель': 'April',\n",
    "    'Май': 'May',\n",
    "    'Июнь': 'June',\n",
    "    'Июль': 'July',\n",
    "    'Август': 'August',\n",
    "    'Сентябрь': 'September',\n",
    "    'Октябрь': 'October',\n",
    "    'Ноябрь': 'November',\n",
    "    'Декабрь': 'December'\n",
    "}\n",
    "\n",
    "# Замена названий месяцев\n",
    "for ru_month, en_month in months_translation.items():\n",
    "    df['month'] = df['month'].str.replace(ru_month, en_month)"
   ]
  },
  {
   "cell_type": "code",
   "execution_count": 75,
   "id": "58756adf",
   "metadata": {},
   "outputs": [],
   "source": [
    "df['month'] = pd.to_datetime(df['month']) "
   ]
  },
  {
   "cell_type": "code",
   "execution_count": 76,
   "id": "e1a6a33b",
   "metadata": {},
   "outputs": [
    {
     "data": {
      "image/png": "[encoded data removed]",
      "text/plain": [
       "<Figure size 1000x600 with 1 Axes>"
      ]
     },
     "metadata": {},
     "output_type": "display_data"
    }
   ],
   "source": [
    "# Группировка данных по месяцам и суммирование выручки\n",
    "monthly_revenue = df.query('status!= \"ПРОСРОЧЕНО\"').groupby(df['month'].dt.to_period('M')).sum()\n",
    "\n",
    "# Построение графика\n",
    "plt.figure(figsize=(10, 6))\n",
    "plt.plot(monthly_revenue.index.astype(str), monthly_revenue['sum'], marker='o')\n",
    "plt.title('Изменение выручки по месяцам')\n",
    "plt.xlabel('Месяц')\n",
    "plt.ylabel('Выручка')\n",
    "plt.xticks(rotation=45)\n",
    "plt.grid()\n",
    "plt.tight_layout()\n",
    "plt.show()\n"
   ]
  },
  {
   "cell_type": "markdown",
   "id": "407e804d",
   "metadata": {},
   "source": [
    "3. Кто из менеджеров привлек для компании больше всего денежных средств в\n",
    "сентябре 2021?"
   ]
  },
  {
   "cell_type": "code",
   "execution_count": 77,
   "id": "36d6767c",
   "metadata": {},
   "outputs": [
    {
     "name": "stdout",
     "output_type": "stream",
     "text": [
      "топ менеджер по выручке за сентябрь 2021 (без ПРОСРОЧЕНО):       sale       sum\n",
      "6  Смирнов  221525.7\n"
     ]
    }
   ],
   "source": [
    "top_manager_September=df.query('month==\"September 2021\" and status!= \"ПРОСРОЧЕНО\"').groupby('sale', as_index=False)\\\n",
    ".agg({'sum':'sum'}).sort_values(by='sum', ascending=False).head(1)\n",
    "print(f\"топ менеджер по выручке за сентябрь 2021 (без ПРОСРОЧЕНО): {top_manager_September}\")\n"
   ]
  },
  {
   "cell_type": "markdown",
   "id": "7f72e573",
   "metadata": {},
   "source": [
    "4. Какой тип сделок (новая/текущая) был преобладающим в октябре 2021?"
   ]
  },
  {
   "cell_type": "code",
   "execution_count": 78,
   "id": "f86782a3",
   "metadata": {},
   "outputs": [
    {
     "name": "stdout",
     "output_type": "stream",
     "text": [
      "топ сделка за октябрь 2021 :   new/current  client_id\n",
      "1     текущая         99\n"
     ]
    }
   ],
   "source": [
    "top_transaction_type = df.query('month==\"October 2021\"').groupby('new/current', as_index=False)\\\n",
    ".agg({'client_id':'count'}).sort_values(by='client_id', ascending=False).head(1)\n",
    "print(f\"топ сделка за октябрь 2021 : {top_transaction_type}\")"
   ]
  },
  {
   "cell_type": "markdown",
   "id": "8fb6331b",
   "metadata": {},
   "source": [
    "5. Сколько оригиналов договора по майским сделкам было получено в июне 2021?"
   ]
  },
  {
   "cell_type": "code",
   "execution_count": 79,
   "id": "873c6aa3",
   "metadata": {},
   "outputs": [
    {
     "name": "stdout",
     "output_type": "stream",
     "text": [
      "количество договоров оригинал :    document  client_id\n",
      "0  оригинал        126\n"
     ]
    }
   ],
   "source": [
    "document_original = df.query('month==\"June 2021\" and document == \"оригинал\"').groupby('document', as_index=False)\\\n",
    ".agg({'client_id':'count'})\n",
    "print(f\"количество договоров оригинал : {document_original}\")"
   ]
  },
  {
   "cell_type": "markdown",
   "id": "c0a59d0d",
   "metadata": {},
   "source": [
    "А. Расчет бонуса для каждого менеджера до 01.07.2021"
   ]
  },
  {
   "cell_type": "code",
   "execution_count": 80,
   "id": "e088f00f",
   "metadata": {},
   "outputs": [],
   "source": [
    "df_May_June= df.query('month==\"June 2021\" or month==\"May 2021\"')"
   ]
  },
  {
   "cell_type": "code",
   "execution_count": 81,
   "id": "07efa3d0",
   "metadata": {},
   "outputs": [
    {
     "name": "stderr",
     "output_type": "stream",
     "text": [
      "C:\\Users\\Юлия\\AppData\\Local\\Temp\\ipykernel_17396\\3468037626.py:1: SettingWithCopyWarning: \n",
      "A value is trying to be set on a copy of a slice from a DataFrame.\n",
      "Try using .loc[row_indexer,col_indexer] = value instead\n",
      "\n",
      "See the caveats in the documentation: https://pandas.pydata.org/pandas-docs/stable/user_guide/indexing.html#returning-a-view-versus-a-copy\n",
      "  df_May_June['receiving_date'] = pd.to_datetime(df_May_June['receiving_date'], errors='coerce')\n"
     ]
    }
   ],
   "source": [
    "df_May_June['receiving_date'] = pd.to_datetime(df_May_June['receiving_date'], errors='coerce')"
   ]
  },
  {
   "cell_type": "code",
   "execution_count": 82,
   "id": "7550fc98",
   "metadata": {},
   "outputs": [
    {
     "name": "stderr",
     "output_type": "stream",
     "text": [
      "C:\\Users\\Юлия\\AppData\\Local\\Temp\\ipykernel_17396\\1352624828.py:1: SettingWithCopyWarning: \n",
      "A value is trying to be set on a copy of a slice from a DataFrame.\n",
      "Try using .loc[row_indexer,col_indexer] = value instead\n",
      "\n",
      "See the caveats in the documentation: https://pandas.pydata.org/pandas-docs/stable/user_guide/indexing.html#returning-a-view-versus-a-copy\n",
      "  df_May_June['receiving_date'] = pd.to_datetime(df_May_June['receiving_date'])\n"
     ]
    }
   ],
   "source": [
    "df_May_June['receiving_date'] = pd.to_datetime(df_May_June['receiving_date'])"
   ]
  },
  {
   "cell_type": "code",
   "execution_count": 83,
   "id": "ee47bab5",
   "metadata": {},
   "outputs": [
    {
     "data": {
      "text/plain": [
       "client_id                float64\n",
       "sum                      float64\n",
       "status                    object\n",
       "sale                      object\n",
       "new/current               object\n",
       "document                  object\n",
       "receiving_date    datetime64[ns]\n",
       "month             datetime64[ns]\n",
       "dtype: object"
      ]
     },
     "execution_count": 83,
     "metadata": {},
     "output_type": "execute_result"
    }
   ],
   "source": [
    "df_May_June.dtypes"
   ]
  },
  {
   "cell_type": "code",
   "execution_count": 84,
   "id": "2d94b418",
   "metadata": {},
   "outputs": [],
   "source": [
    "df_May_June = df_May_June.drop_duplicates(subset=['client_id', 'sum','status', 'sale','new/current', 'document', 'receiving_date'])"
   ]
  },
  {
   "cell_type": "code",
   "execution_count": 85,
   "id": "8d4545b0",
   "metadata": {},
   "outputs": [],
   "source": [
    "# Функция для подсчета бонусов\n",
    "def calculate_bonus(x):\n",
    "    bonus = 0\n",
    "    if x['new/current'] == 'новая' and x['status'] == 'ОПЛАЧЕНО' and x['document'] == 'оригинал' and x['receiving_date'] <= pd.to_datetime('2021-06-30'):\n",
    "        bonus = x['sum'] * 0.07\n",
    "    elif x['new/current'] == 'текущая' and x['status'] != 'ПРОСРОЧЕНО' and x['receiving_date'] <= pd.to_datetime('2021-06-30'):\n",
    "        if x['sum'] > 10000:\n",
    "            bonus = x['sum'] * 0.05\n",
    "        else:\n",
    "            bonus = x['sum'] * 0.03\n",
    "    return bonus\n"
   ]
  },
  {
   "cell_type": "code",
   "execution_count": 86,
   "id": "8a68d9b7",
   "metadata": {},
   "outputs": [],
   "source": [
    "# Применяем функцию к DataFrame\n",
    "df_May_June['bonus'] = df_May_June.apply(calculate_bonus, axis=1)"
   ]
  },
  {
   "cell_type": "code",
   "execution_count": 87,
   "id": "dd6f54f5",
   "metadata": {},
   "outputs": [
    {
     "name": "stdout",
     "output_type": "stream",
     "text": [
      "Бонусы менеджеров по сделкам за май-июнь 2021 :          sale      bonus\n",
      "4     Петрова  7028.8020\n",
      "0     Андреев  4657.5427\n",
      "6     Смирнов  4078.7240\n",
      "3   Кузнецова  2604.6716\n",
      "2      Иванов  2503.8390\n",
      "7  Филимонова   409.6830\n",
      "5   Селиванов   353.3220\n",
      "1    Васильев   339.2310\n"
     ]
    }
   ],
   "source": [
    "df_May_June_bonus = df_May_June.query('bonus!= 0').groupby('sale', as_index=False)\\\n",
    ".agg({'bonus':'sum'}).sort_values(by='bonus', ascending=False)\n",
    "print(f\"Бонусы менеджеров по сделкам за май-июнь 2021 : {df_May_June_bonus}\")"
   ]
  },
  {
   "cell_type": "code",
   "execution_count": null,
   "id": "bdb5a4b1",
   "metadata": {},
   "outputs": [],
   "source": []
  },
  {
   "cell_type": "code",
   "execution_count": null,
   "id": "6e58ae34",
   "metadata": {},
   "outputs": [],
   "source": []
  },
  {
   "cell_type": "code",
   "execution_count": null,
   "id": "149c673e",
   "metadata": {},
   "outputs": [],
   "source": []
  },
  {
   "cell_type": "code",
   "execution_count": null,
   "id": "57a4e95a",
   "metadata": {},
   "outputs": [],
   "source": []
  }
 ],
 "metadata": {
  "kernelspec": {
   "display_name": "Python 3 (ipykernel)",
   "language": "python",
   "name": "python3"
  },
  "language_info": {
   "codemirror_mode": {
    "name": "ipython",
    "version": 3
   },
   "file_extension": ".py",
   "mimetype": "text/x-python",
   "name": "python",
   "nbconvert_exporter": "python",
   "pygments_lexer": "ipython3",
   "version": "3.9.13"
  }
 },
 "nbformat": 4,
 "nbformat_minor": 5
}
